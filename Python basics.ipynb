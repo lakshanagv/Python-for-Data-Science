{
 "cells": [
  {
   "cell_type": "code",
   "execution_count": 1,
   "metadata": {},
   "outputs": [
    {
     "data": {
      "text/plain": [
       "2"
      ]
     },
     "execution_count": 1,
     "metadata": {},
     "output_type": "execute_result"
    }
   ],
   "source": [
    "1+1"
   ]
  },
  {
   "cell_type": "code",
   "execution_count": 2,
   "metadata": {},
   "outputs": [
    {
     "name": "stdout",
     "output_type": "stream",
     "text": [
      "Hello world!\n"
     ]
    }
   ],
   "source": [
    "print(\"Hello world!\")"
   ]
  },
  {
   "cell_type": "code",
   "execution_count": 3,
   "metadata": {},
   "outputs": [
    {
     "name": "stdout",
     "output_type": "stream",
     "text": [
      "1000\n"
     ]
    }
   ],
   "source": [
    "print(1000)"
   ]
  },
  {
   "cell_type": "code",
   "execution_count": 4,
   "metadata": {},
   "outputs": [
    {
     "name": "stdout",
     "output_type": "stream",
     "text": [
      "laks\n"
     ]
    }
   ],
   "source": [
    "str='laks'\n",
    "print(str)"
   ]
  },
  {
   "cell_type": "code",
   "execution_count": 5,
   "metadata": {},
   "outputs": [
    {
     "data": {
      "text/plain": [
       "str"
      ]
     },
     "execution_count": 5,
     "metadata": {},
     "output_type": "execute_result"
    }
   ],
   "source": [
    "type(str)"
   ]
  },
  {
   "cell_type": "code",
   "execution_count": 6,
   "metadata": {},
   "outputs": [
    {
     "name": "stdout",
     "output_type": "stream",
     "text": [
      "50 1000 65 Hello world\n"
     ]
    }
   ],
   "source": [
    "print(50,1000,65,\"Hello world\")"
   ]
  },
  {
   "cell_type": "code",
   "execution_count": 10,
   "metadata": {},
   "outputs": [
    {
     "name": "stdout",
     "output_type": "stream",
     "text": [
      "Hello,world\n",
      "Hello world\n"
     ]
    }
   ],
   "source": [
    "print(\"Hello\",end=\",\")\n",
    "print(\"world\")\n",
    "print(\"Hello\",end=\" \")\n",
    "print(\"world\")"
   ]
  },
  {
   "cell_type": "markdown",
   "metadata": {},
   "source": [
    "# This is hello world\n",
    "## this is first program\n",
    "\"\"\" This is hello world\n",
    "My first program in python\"\"\""
   ]
  },
  {
   "cell_type": "code",
   "execution_count": 12,
   "metadata": {},
   "outputs": [
    {
     "name": "stdout",
     "output_type": "stream",
     "text": [
      "(10+2j)\n",
      "(2+5j)\n"
     ]
    }
   ],
   "source": [
    "# Complex number\n",
    "complex_1=complex(10,2)\n",
    "complex_2 = complex(2,5)\n",
    "print(complex_1)\n",
    "print(complex_2)"
   ]
  },
  {
   "cell_type": "code",
   "execution_count": 14,
   "metadata": {},
   "outputs": [
    {
     "name": "stdout",
     "output_type": "stream",
     "text": [
      "Harry potter 1\n",
      "\n",
      "Love Python\n"
     ]
    }
   ],
   "source": [
    "str1= \"Harry potter 1\"\n",
    "str2 = \"\"\n",
    "str3 = 'Love Python'\n",
    "print(str1)\n",
    "print(str2)\n",
    "print(str3)"
   ]
  },
  {
   "cell_type": "code",
   "execution_count": 16,
   "metadata": {},
   "outputs": [
    {
     "name": "stdout",
     "output_type": "stream",
     "text": [
      "14\n",
      "0\n"
     ]
    }
   ],
   "source": [
    "print(len(str1))\n",
    "print(len(str2))"
   ]
  },
  {
   "cell_type": "code",
   "execution_count": 17,
   "metadata": {},
   "outputs": [
    {
     "data": {
      "text/plain": [
       "19"
      ]
     },
     "execution_count": 17,
     "metadata": {},
     "output_type": "execute_result"
    }
   ],
   "source": [
    "name = 'Adheesh Nandhakumar'\n",
    "len(name)"
   ]
  },
  {
   "cell_type": "code",
   "execution_count": 19,
   "metadata": {},
   "outputs": [
    {
     "name": "stdout",
     "output_type": "stream",
     "text": [
      "A\n",
      "d\n",
      " \n",
      "r\n"
     ]
    }
   ],
   "source": [
    "first = name[0]\n",
    "print(first)\n",
    "second = name[1]\n",
    "print(second)\n",
    "\n",
    "space = name[7]\n",
    "print(space)\n",
    "end = name[len(name)-1]\n",
    "print(end)"
   ]
  },
  {
   "cell_type": "code",
   "execution_count": 21,
   "metadata": {},
   "outputs": [
    {
     "name": "stdout",
     "output_type": "stream",
     "text": [
      "r\n",
      "N\n",
      "A\n"
     ]
    }
   ],
   "source": [
    "# REverse indexing\n",
    "print(name[-1])\n",
    "print(name[-11])\n",
    "print(name[-19])"
   ]
  },
  {
   "cell_type": "code",
   "execution_count": 25,
   "metadata": {},
   "outputs": [
    {
     "name": "stdout",
     "output_type": "stream",
     "text": [
      "Adheesh\n",
      "Nandhakumar\n"
     ]
    }
   ],
   "source": [
    "#String slicing\n",
    "#string[start:end]\n",
    "print(name[0:7])\n",
    "print(name[8:len(name)])"
   ]
  },
  {
   "cell_type": "code",
   "execution_count": 26,
   "metadata": {},
   "outputs": [
    {
     "name": "stdout",
     "output_type": "stream",
     "text": [
      "Aheh\n"
     ]
    }
   ],
   "source": [
    "#Slicing with a step\n",
    "#string[start:end:step]\n",
    "print(name[0:7:2])"
   ]
  },
  {
   "cell_type": "code",
   "execution_count": 27,
   "metadata": {},
   "outputs": [
    {
     "name": "stdout",
     "output_type": "stream",
     "text": [
      "ramukahdnaN\n",
      "rmkhnN\n"
     ]
    }
   ],
   "source": [
    "# For reverse slicing switch the order of start and end and the step has to be negative\n",
    "print(name[19:7:-1])\n",
    "print(name[19:7:-2])"
   ]
  },
  {
   "cell_type": "code",
   "execution_count": 28,
   "metadata": {},
   "outputs": [
    {
     "name": "stdout",
     "output_type": "stream",
     "text": [
      "Adheesh Nandhakumar\n",
      "ramukahdnaN hseehdA\n"
     ]
    }
   ],
   "source": [
    "print(name[:])\n",
    "print(name[::-1])"
   ]
  },
  {
   "cell_type": "code",
   "execution_count": 30,
   "metadata": {},
   "outputs": [
    {
     "name": "stdout",
     "output_type": "stream",
     "text": [
      "5\n",
      "-8\n"
     ]
    }
   ],
   "source": [
    "#Arithmentic operators\n",
    "#Addition\n",
    "num1=10\n",
    "num2=5\n",
    "print(num1-num2)\n",
    "print(-5-3)\n"
   ]
  },
  {
   "cell_type": "code",
   "execution_count": 32,
   "metadata": {},
   "outputs": [
    {
     "name": "stdout",
     "output_type": "stream",
     "text": [
      "50\n",
      "-30\n"
     ]
    }
   ],
   "source": [
    "#Multiplication\n",
    "print(num1*num2)\n",
    "print(num1*-3)"
   ]
  },
  {
   "cell_type": "code",
   "execution_count": 35,
   "metadata": {},
   "outputs": [
    {
     "name": "stdout",
     "output_type": "stream",
     "text": [
      "3.4444444444444446\n",
      "3.0\n"
     ]
    }
   ],
   "source": [
    "#Division\n",
    "float1=15.5\n",
    "float2=4.5\n",
    "print(float1/float2)\n",
    "print(float1//float2)"
   ]
  },
  {
   "cell_type": "code",
   "execution_count": 39,
   "metadata": {},
   "outputs": [
    {
     "name": "stdout",
     "output_type": "stream",
     "text": [
      "0\n",
      "2\n",
      "-8\n",
      "8\n"
     ]
    }
   ],
   "source": [
    "print(10%2)\n",
    "print(22 % 10 )\n",
    "print(22%-10)\n",
    "print(-22%10)"
   ]
  },
  {
   "cell_type": "code",
   "execution_count": 40,
   "metadata": {},
   "outputs": [
    {
     "name": "stdout",
     "output_type": "stream",
     "text": [
      "0.75\n"
     ]
    }
   ],
   "source": [
    "print(3 / 20 * 5)"
   ]
  },
  {
   "cell_type": "code",
   "execution_count": 45,
   "metadata": {},
   "outputs": [
    {
     "name": "stdout",
     "output_type": "stream",
     "text": [
      "True\n"
     ]
    },
    {
     "name": "stderr",
     "output_type": "stream",
     "text": [
      "<>:1: SyntaxWarning: \"is\" with a literal. Did you mean \"==\"?\n",
      "<>:1: SyntaxWarning: \"is\" with a literal. Did you mean \"==\"?\n",
      "<ipython-input-45-54e13ce3e40a>:1: SyntaxWarning: \"is\" with a literal. Did you mean \"==\"?\n",
      "  print(3 is 3)\n"
     ]
    }
   ],
   "source": [
    "print(3 is 3)"
   ]
  },
  {
   "cell_type": "code",
   "execution_count": 48,
   "metadata": {},
   "outputs": [
    {
     "name": "stdout",
     "output_type": "stream",
     "text": [
      "12\n",
      "10\n",
      "20\n",
      "10.0\n",
      "0.0\n",
      "0.0\n"
     ]
    }
   ],
   "source": [
    "num=10\n",
    "\n",
    "num += 2\n",
    "print(num)\n",
    "\n",
    "num -= 2\n",
    "print(num)\n",
    "\n",
    "num *= 2\n",
    "print(num)\n",
    "\n",
    "num /= 2\n",
    "print(num)\n",
    "\n",
    "num %= 2\n",
    "print(num)\n",
    "\n",
    "num **= 2\n",
    "print(num)\n",
    "\n"
   ]
  },
  {
   "cell_type": "code",
   "execution_count": null,
   "metadata": {},
   "outputs": [],
   "source": []
  }
 ],
 "metadata": {
  "kernelspec": {
   "display_name": "Python 3",
   "language": "python",
   "name": "python3"
  },
  "language_info": {
   "codemirror_mode": {
    "name": "ipython",
    "version": 3
   },
   "file_extension": ".py",
   "mimetype": "text/x-python",
   "name": "python",
   "nbconvert_exporter": "python",
   "pygments_lexer": "ipython3",
   "version": "3.8.5"
  }
 },
 "nbformat": 4,
 "nbformat_minor": 4
}
