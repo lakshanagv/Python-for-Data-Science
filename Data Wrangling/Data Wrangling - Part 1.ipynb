{
 "cells": [
  {
   "cell_type": "markdown",
   "metadata": {},
   "source": [
    "### Reading and writing Csv files\n",
    "* read_csv() ---> used to read data from csv file into a dataframe\n",
    "* to_csv() ---> used to write data from dataframe to csv file"
   ]
  },
  {
   "cell_type": "code",
   "execution_count": 9,
   "metadata": {},
   "outputs": [],
   "source": [
    "import pandas as pd\n",
    "import numpy as np"
   ]
  },
  {
   "cell_type": "code",
   "execution_count": 6,
   "metadata": {},
   "outputs": [],
   "source": [
    "df=pd.read_csv('Test.csv') #reading csv file t"
   ]
  },
  {
   "cell_type": "code",
   "execution_count": 7,
   "metadata": {},
   "outputs": [
    {
     "name": "stdout",
     "output_type": "stream",
     "text": [
      "<bound method NDFrame.head of   Unnamed: 0  Col1  Col2  Col3\n",
      "0       Row1     0     1     2\n",
      "1       Row2     3     4     5\n",
      "2       Row3     6     7     8\n",
      "3       Row4     9    10    11>\n"
     ]
    }
   ],
   "source": [
    "print(df.head)"
   ]
  },
  {
   "cell_type": "code",
   "execution_count": 8,
   "metadata": {},
   "outputs": [
    {
     "data": {
      "text/html": [
       "<div>\n",
       "<style scoped>\n",
       "    .dataframe tbody tr th:only-of-type {\n",
       "        vertical-align: middle;\n",
       "    }\n",
       "\n",
       "    .dataframe tbody tr th {\n",
       "        vertical-align: top;\n",
       "    }\n",
       "\n",
       "    .dataframe thead th {\n",
       "        text-align: right;\n",
       "    }\n",
       "</style>\n",
       "<table border=\"1\" class=\"dataframe\">\n",
       "  <thead>\n",
       "    <tr style=\"text-align: right;\">\n",
       "      <th></th>\n",
       "      <th>Unnamed: 0</th>\n",
       "      <th>Col1</th>\n",
       "      <th>Col2</th>\n",
       "      <th>Col3</th>\n",
       "    </tr>\n",
       "  </thead>\n",
       "  <tbody>\n",
       "    <tr>\n",
       "      <th>0</th>\n",
       "      <td>Row1</td>\n",
       "      <td>0</td>\n",
       "      <td>1</td>\n",
       "      <td>2</td>\n",
       "    </tr>\n",
       "    <tr>\n",
       "      <th>1</th>\n",
       "      <td>Row2</td>\n",
       "      <td>3</td>\n",
       "      <td>4</td>\n",
       "      <td>5</td>\n",
       "    </tr>\n",
       "    <tr>\n",
       "      <th>2</th>\n",
       "      <td>Row3</td>\n",
       "      <td>6</td>\n",
       "      <td>7</td>\n",
       "      <td>8</td>\n",
       "    </tr>\n",
       "    <tr>\n",
       "      <th>3</th>\n",
       "      <td>Row4</td>\n",
       "      <td>9</td>\n",
       "      <td>10</td>\n",
       "      <td>11</td>\n",
       "    </tr>\n",
       "  </tbody>\n",
       "</table>\n",
       "</div>"
      ],
      "text/plain": [
       "  Unnamed: 0  Col1  Col2  Col3\n",
       "0       Row1     0     1     2\n",
       "1       Row2     3     4     5\n",
       "2       Row3     6     7     8\n",
       "3       Row4     9    10    11"
      ]
     },
     "execution_count": 8,
     "metadata": {},
     "output_type": "execute_result"
    }
   ],
   "source": [
    "df.head()"
   ]
  },
  {
   "cell_type": "code",
   "execution_count": 10,
   "metadata": {},
   "outputs": [],
   "source": [
    "df1=pd.DataFrame(np.arange(0,16).reshape(4,4),columns=['A','B','C','D'])"
   ]
  },
  {
   "cell_type": "code",
   "execution_count": 11,
   "metadata": {},
   "outputs": [
    {
     "name": "stdout",
     "output_type": "stream",
     "text": [
      "    A   B   C   D\n",
      "0   0   1   2   3\n",
      "1   4   5   6   7\n",
      "2   8   9  10  11\n",
      "3  12  13  14  15\n"
     ]
    }
   ],
   "source": [
    "print(df1)"
   ]
  },
  {
   "cell_type": "code",
   "execution_count": 12,
   "metadata": {},
   "outputs": [],
   "source": [
    "df1.to_csv('E:\\Learn\\Python\\TestData.csv')"
   ]
  },
  {
   "cell_type": "markdown",
   "metadata": {},
   "source": [
    "### Merging dataframes\n",
    "2 or more dataframes can be merged based on\n",
    "* common column between them\n",
    "* row values of those column names"
   ]
  },
  {
   "cell_type": "code",
   "execution_count": 13,
   "metadata": {},
   "outputs": [],
   "source": [
    "df2=pd.DataFrame({'ID':['A','B','C','B','A','D'],'values_1':[0,1,2,3,4,5]})"
   ]
  },
  {
   "cell_type": "code",
   "execution_count": 14,
   "metadata": {},
   "outputs": [
    {
     "name": "stdout",
     "output_type": "stream",
     "text": [
      "First dataframe\n",
      "\n",
      "  ID  values\n",
      "0  A       0\n",
      "1  B       1\n",
      "2  C       2\n",
      "3  B       3\n",
      "4  A       4\n",
      "5  D       5\n"
     ]
    }
   ],
   "source": [
    "print(\"First dataframe\\n\")\n",
    "print(df2)"
   ]
  },
  {
   "cell_type": "code",
   "execution_count": 15,
   "metadata": {},
   "outputs": [
    {
     "name": "stdout",
     "output_type": "stream",
     "text": [
      "Second dataframe\n",
      "\n",
      "  ID  values_2\n",
      "0  B         6\n",
      "1  C         7\n",
      "2  B         8\n",
      "3  D         9\n"
     ]
    }
   ],
   "source": [
    "df3=pd.DataFrame({'ID':['B','C','B','D'],'values_2':[6,7,8,9]})\n",
    "print(\"Second dataframe\\n\")\n",
    "print(df3)"
   ]
  },
  {
   "cell_type": "code",
   "execution_count": 16,
   "metadata": {},
   "outputs": [
    {
     "name": "stdout",
     "output_type": "stream",
     "text": [
      "Merged dataframe\n",
      "\n",
      "  ID  values  values_2\n",
      "0  B       1         6\n",
      "1  B       1         8\n",
      "2  B       3         6\n",
      "3  B       3         8\n",
      "4  C       2         7\n",
      "5  D       5         9\n"
     ]
    }
   ],
   "source": [
    "print(\"Merged dataframe\\n\")\n",
    "print(pd.merge(df2,df3))"
   ]
  },
  {
   "cell_type": "markdown",
   "metadata": {},
   "source": [
    "#### Left Merge\n",
    "* takes all the rows from left dataframe and merges it with corresponding matching values from right data frame.\n",
    "* those rows which dont have matching values in right are assigned NaN values\n",
    "* basic parameter to include in merge function (how='left')"
   ]
  },
  {
   "cell_type": "code",
   "execution_count": 18,
   "metadata": {},
   "outputs": [
    {
     "name": "stdout",
     "output_type": "stream",
     "text": [
      "First dataframe\n",
      "   ID  values\n",
      "0  A       0\n",
      "1  B       1\n",
      "2  C       2\n",
      "3  B       3\n",
      "4  A       4\n",
      "5  D       5\n"
     ]
    }
   ],
   "source": [
    "print(\"First dataframe\\n\",df2)"
   ]
  },
  {
   "cell_type": "code",
   "execution_count": 19,
   "metadata": {},
   "outputs": [
    {
     "name": "stdout",
     "output_type": "stream",
     "text": [
      "Second dataframe\n",
      "   ID  values_2\n",
      "0  B         6\n",
      "1  C         7\n",
      "2  B         8\n",
      "3  D         9\n"
     ]
    }
   ],
   "source": [
    "print(\"Second dataframe\\n\",df3)"
   ]
  },
  {
   "cell_type": "code",
   "execution_count": 20,
   "metadata": {},
   "outputs": [
    {
     "name": "stdout",
     "output_type": "stream",
     "text": [
      "Left merged dataframe\n",
      "\n",
      "  ID  values  values_2\n",
      "0  A       0       NaN\n",
      "1  B       1       6.0\n",
      "2  B       1       8.0\n",
      "3  C       2       7.0\n",
      "4  B       3       6.0\n",
      "5  B       3       8.0\n",
      "6  A       4       NaN\n",
      "7  D       5       9.0\n"
     ]
    }
   ],
   "source": [
    "print(\"Left merged dataframe\\n\")\n",
    "print(pd.merge(df2,df3,how='left'))"
   ]
  },
  {
   "cell_type": "markdown",
   "metadata": {},
   "source": [
    "#### Right merge\n",
    "* takes all the rows from right dataframe and merges it with corresponding matching values from left data frame.\n",
    "* those rows which dont have matching values in left are assigned NaN values\n",
    "* basic parameter to include in merge function (how='right')"
   ]
  },
  {
   "cell_type": "code",
   "execution_count": 22,
   "metadata": {},
   "outputs": [
    {
     "name": "stdout",
     "output_type": "stream",
     "text": [
      "Right Dataframe\n",
      "   ID  values_3\n",
      "0  B         6\n",
      "1  Z         7\n",
      "2  C         8\n",
      "3  B         9\n",
      "4  D        10\n",
      "5  E        11\n"
     ]
    }
   ],
   "source": [
    "df4=pd.DataFrame({'ID':['B','Z','C','B','D','E'],'values_3':[6,7,8,9,10,11]})\n",
    "print(\"Right Dataframe\\n\",df4)"
   ]
  },
  {
   "cell_type": "code",
   "execution_count": 23,
   "metadata": {},
   "outputs": [
    {
     "name": "stdout",
     "output_type": "stream",
     "text": [
      "Left dataframe\n",
      "   ID  values_2\n",
      "0  B         6\n",
      "1  C         7\n",
      "2  B         8\n",
      "3  D         9\n"
     ]
    }
   ],
   "source": [
    "print(\"Left dataframe\\n\",df3)"
   ]
  },
  {
   "cell_type": "code",
   "execution_count": 24,
   "metadata": {},
   "outputs": [
    {
     "name": "stdout",
     "output_type": "stream",
     "text": [
      "Right merged dataframe\n",
      "\n",
      "  ID  values_2  values_3\n",
      "0  B       6.0         6\n",
      "1  B       8.0         6\n",
      "2  B       6.0         9\n",
      "3  B       8.0         9\n",
      "4  Z       NaN         7\n",
      "5  C       7.0         8\n",
      "6  D       9.0        10\n",
      "7  E       NaN        11\n"
     ]
    }
   ],
   "source": [
    "print(\"Right merged dataframe\\n\")\n",
    "print(pd.merge(df3,df4,how='right'))"
   ]
  },
  {
   "cell_type": "markdown",
   "metadata": {},
   "source": [
    "#### Outer merge\n",
    "This returns all the rows both the dataframes and if there is no match, NaN is assigned"
   ]
  },
  {
   "cell_type": "code",
   "execution_count": 25,
   "metadata": {},
   "outputs": [
    {
     "name": "stdout",
     "output_type": "stream",
     "text": [
      "dataframe 1\n",
      "   ID  values_2\n",
      "0  B         6\n",
      "1  C         7\n",
      "2  B         8\n",
      "3  D         9\n",
      "dataframe 2\n",
      "   ID  values_3\n",
      "0  B         6\n",
      "1  Z         7\n",
      "2  C         8\n",
      "3  B         9\n",
      "4  D        10\n",
      "5  E        11\n",
      "Outer merged dataframe\n",
      "   ID  values_2  values_3\n",
      "0  B       6.0         6\n",
      "1  B       6.0         9\n",
      "2  B       8.0         6\n",
      "3  B       8.0         9\n",
      "4  C       7.0         8\n",
      "5  D       9.0        10\n",
      "6  Z       NaN         7\n",
      "7  E       NaN        11\n"
     ]
    }
   ],
   "source": [
    "print(\"dataframe 1\\n\",df3)\n",
    "print(\"dataframe 2\\n\",df4)\n",
    "print(\"Outer merged dataframe\\n\",pd.merge(df3,df4,how='outer'))"
   ]
  },
  {
   "cell_type": "markdown",
   "metadata": {},
   "source": [
    "#### Merging on multiple columns\n",
    "* two or more columns belonging to different dataframes can be joined if they have the same name in both dataframes"
   ]
  },
  {
   "cell_type": "code",
   "execution_count": 26,
   "metadata": {},
   "outputs": [],
   "source": [
    "data1=pd.DataFrame({'column1':['Ind','USA','Ind','Can','Pak','None'],\n",
    "                   'column2':['A','B','C','B','A','D'],\n",
    "                   'value_1':[0,1,2,3,4,5]})"
   ]
  },
  {
   "cell_type": "code",
   "execution_count": 27,
   "metadata": {},
   "outputs": [],
   "source": [
    "data2=pd.DataFrame({'column1':['USA','Can','None','USA','Ind','Pak'],\n",
    "                   'column2':['B','Z','C','B','D','E'],\n",
    "                   'value_2':[6,7,8,9,10,11]})"
   ]
  },
  {
   "cell_type": "code",
   "execution_count": 28,
   "metadata": {},
   "outputs": [
    {
     "name": "stdout",
     "output_type": "stream",
     "text": [
      "Dataframe1\n",
      "   column1 column2  value_1\n",
      "0     Ind       A        0\n",
      "1     USA       B        1\n",
      "2     Ind       C        2\n",
      "3     Can       B        3\n",
      "4     Pak       A        4\n",
      "5    None       D        5\n",
      "Dataframe2\n",
      "   column1 column2  value_2\n",
      "0     USA       B        6\n",
      "1     Can       Z        7\n",
      "2    None       C        8\n",
      "3     USA       B        9\n",
      "4     Ind       D       10\n",
      "5     Pak       E       11\n"
     ]
    }
   ],
   "source": [
    "print('Dataframe1\\n',data1)\n",
    "print('Dataframe2\\n',data2)"
   ]
  },
  {
   "cell_type": "code",
   "execution_count": 30,
   "metadata": {},
   "outputs": [
    {
     "name": "stdout",
     "output_type": "stream",
     "text": [
      "Outermeged dataframe\n",
      "\n",
      "   column1 column2  value_1  value_2\n",
      "0      Ind       A      0.0      NaN\n",
      "1      USA       B      1.0      6.0\n",
      "2      USA       B      1.0      9.0\n",
      "3      Ind       C      2.0      NaN\n",
      "4      Can       B      3.0      NaN\n",
      "5      Pak       A      4.0      NaN\n",
      "6     None       D      5.0      NaN\n",
      "7      Can       Z      NaN      7.0\n",
      "8     None       C      NaN      8.0\n",
      "9      Ind       D      NaN     10.0\n",
      "10     Pak       E      NaN     11.0\n"
     ]
    }
   ],
   "source": [
    "print(\"Outermeged dataframe\\n\")\n",
    "print(pd.merge(data1,data2,on=['column1','column2'],how='outer'))"
   ]
  },
  {
   "cell_type": "markdown",
   "metadata": {},
   "source": [
    "#### Merge on index\n",
    "* in the previous merge, two dataframes are merged based on their common rows of common columns\n",
    "* first it has to find commom columns and then common rows of that common column to get merged.\n",
    "* for index merge, column of one data frame is merged with index of another dataframe\n",
    "\n",
    "* For one dataframe, the common values are changed from rows to indexes.\n",
    "* two new parameters are needed for this purpose.\n",
    "* the left_on parameter takes the column name of left dataframe and right_index parameter has to be set to 0"
   ]
  },
  {
   "cell_type": "code",
   "execution_count": 32,
   "metadata": {},
   "outputs": [
    {
     "name": "stdout",
     "output_type": "stream",
     "text": [
      "Dataframe 1\n",
      "   ID  values\n",
      "0  A       0\n",
      "1  B       1\n",
      "2  C       2\n",
      "3  B       3\n",
      "4  A       4\n",
      "5  D       5\n"
     ]
    }
   ],
   "source": [
    "print('Dataframe 1\\n',df2)"
   ]
  },
  {
   "cell_type": "code",
   "execution_count": 33,
   "metadata": {},
   "outputs": [
    {
     "name": "stdout",
     "output_type": "stream",
     "text": [
      "dataframe 2\n",
      "    values2\n",
      "A       10\n",
      "B       11\n",
      "C       12\n"
     ]
    }
   ],
   "source": [
    "df3=pd.DataFrame(np.arange(10,13,1),index=['A','B','C'],columns=['values2'])\n",
    "print(\"dataframe 2\\n\",df3)"
   ]
  },
  {
   "cell_type": "code",
   "execution_count": 34,
   "metadata": {},
   "outputs": [
    {
     "name": "stdout",
     "output_type": "stream",
     "text": [
      "Merged on index\n",
      "\n",
      "  ID  values  values2\n",
      "0  A       0       10\n",
      "4  A       4       10\n",
      "1  B       1       11\n",
      "3  B       3       11\n",
      "2  C       2       12\n"
     ]
    }
   ],
   "source": [
    "print(\"Merged on index\\n\")\n",
    "print(pd.merge(df2,df3,left_on='ID',right_index=True))"
   ]
  },
  {
   "cell_type": "code",
   "execution_count": null,
   "metadata": {},
   "outputs": [],
   "source": []
  }
 ],
 "metadata": {
  "kernelspec": {
   "display_name": "Python 3",
   "language": "python",
   "name": "python3"
  },
  "language_info": {
   "codemirror_mode": {
    "name": "ipython",
    "version": 3
   },
   "file_extension": ".py",
   "mimetype": "text/x-python",
   "name": "python",
   "nbconvert_exporter": "python",
   "pygments_lexer": "ipython3",
   "version": "3.8.5"
  }
 },
 "nbformat": 4,
 "nbformat_minor": 4
}
