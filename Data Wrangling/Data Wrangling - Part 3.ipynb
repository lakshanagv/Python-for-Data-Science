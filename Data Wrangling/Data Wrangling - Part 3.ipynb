{
 "cells": [
  {
   "cell_type": "markdown",
   "metadata": {},
   "source": [
    "### Mapping data"
   ]
  },
  {
   "cell_type": "markdown",
   "metadata": {},
   "source": [
    "Mapping is used to map the values of a series or dataframe\n",
    "* current values in series or dataframe is made equivalent to some other values\n",
    "* pandas map() function is used to either replace mapped values or join them together.\n",
    "* map() can also be used to fill in values of new columns\n"
   ]
  },
  {
   "cell_type": "code",
   "execution_count": 1,
   "metadata": {},
   "outputs": [],
   "source": [
    "import pandas as pd"
   ]
  },
  {
   "cell_type": "code",
   "execution_count": 2,
   "metadata": {},
   "outputs": [
    {
     "name": "stdout",
     "output_type": "stream",
     "text": [
      "Original dataframe\n",
      "       City  AQI\n",
      "0  Chennai  147\n",
      "1  Toronto  100\n",
      "2     Pune  152\n",
      "3   London   81\n"
     ]
    }
   ],
   "source": [
    "df=pd.DataFrame({'City':['Chennai','Toronto','Pune','London'],\n",
    "                'AQI':[147,100,152,81]})\n",
    "print(\"Original dataframe\\n\",df)"
   ]
  },
  {
   "cell_type": "code",
   "execution_count": 3,
   "metadata": {},
   "outputs": [],
   "source": [
    "dict_map={'Chennai':'India','Pune':'India','Toronto':'Canada','London':'UK'}"
   ]
  },
  {
   "cell_type": "code",
   "execution_count": 4,
   "metadata": {},
   "outputs": [],
   "source": [
    "df['Country']=df['City'].map(dict_map)"
   ]
  },
  {
   "cell_type": "code",
   "execution_count": 5,
   "metadata": {},
   "outputs": [
    {
     "name": "stdout",
     "output_type": "stream",
     "text": [
      "Mapped dataframe\n",
      "       City  AQI Country\n",
      "0  Chennai  147   India\n",
      "1  Toronto  100  Canada\n",
      "2     Pune  152   India\n",
      "3   London   81      UK\n"
     ]
    }
   ],
   "source": [
    "print(\"Mapped dataframe\\n\",df)"
   ]
  },
  {
   "cell_type": "markdown",
   "metadata": {},
   "source": [
    "### Finding and removing duplicates\n",
    "* drop_duplicates() --> to get rid of duplicates in a dataset"
   ]
  },
  {
   "cell_type": "code",
   "execution_count": 6,
   "metadata": {},
   "outputs": [
    {
     "name": "stdout",
     "output_type": "stream",
     "text": [
      "Original dataframe\n",
      "   Col1  Col2\n",
      "0    A     1\n",
      "1    B     2\n",
      "2    A     1\n",
      "3    C     3\n",
      "4    B     4\n",
      "5    E     5\n",
      "6    C     3\n"
     ]
    }
   ],
   "source": [
    "df1=pd.DataFrame({'Col1':['A','B','A','C','B','E','C'],\n",
    "                 'Col2':[1,2,1,3,4,5,3]})\n",
    "print(\"Original dataframe\\n\",df1)"
   ]
  },
  {
   "cell_type": "code",
   "execution_count": 7,
   "metadata": {},
   "outputs": [
    {
     "name": "stdout",
     "output_type": "stream",
     "text": [
      "Dataframe without duplicates\n",
      "\n",
      "  Col1  Col2\n",
      "0    A     1\n",
      "1    B     2\n",
      "3    C     3\n",
      "4    B     4\n",
      "5    E     5\n"
     ]
    }
   ],
   "source": [
    "print(\"Dataframe without duplicates\\n\")\n",
    "print(df1.drop_duplicates())"
   ]
  },
  {
   "cell_type": "code",
   "execution_count": 8,
   "metadata": {},
   "outputs": [
    {
     "name": "stdout",
     "output_type": "stream",
     "text": [
      "Dataframe without column duplicates\n",
      "\n",
      "  Col1  Col2\n",
      "0    A     1\n",
      "1    B     2\n",
      "3    C     3\n",
      "5    E     5\n"
     ]
    }
   ],
   "source": [
    "print('Dataframe without column duplicates\\n')\n",
    "print(df1.drop_duplicates(['Col1']))"
   ]
  },
  {
   "cell_type": "code",
   "execution_count": null,
   "metadata": {},
   "outputs": [],
   "source": []
  }
 ],
 "metadata": {
  "kernelspec": {
   "display_name": "Python 3",
   "language": "python",
   "name": "python3"
  },
  "language_info": {
   "codemirror_mode": {
    "name": "ipython",
    "version": 3
   },
   "file_extension": ".py",
   "mimetype": "text/x-python",
   "name": "python",
   "nbconvert_exporter": "python",
   "pygments_lexer": "ipython3",
   "version": "3.8.5"
  }
 },
 "nbformat": 4,
 "nbformat_minor": 4
}
