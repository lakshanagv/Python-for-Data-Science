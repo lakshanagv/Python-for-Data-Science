{
 "cells": [
  {
   "cell_type": "markdown",
   "metadata": {},
   "source": [
    "# Finding outliers in data\n",
    "#### What is an outlier?\n",
    "* Anything that lies outside the normal distribution of dataset is known as outlier.\n",
    "* Any data point that behaves differently from the set is known as outlier\n"
   ]
  },
  {
   "cell_type": "markdown",
   "metadata": {},
   "source": [
    "#### Why do they exist?\n",
    "Outliers exist because of 2 reasons:\n",
    "* Variance in data - anamolies and ambiguities in data which can be quite different from normal distribution\n",
    "* Entry error - human error while preparing the dataset or entering values"
   ]
  },
  {
   "cell_type": "markdown",
   "metadata": {},
   "source": [
    "## How to identify outliers?\n",
    "2 ways to identify outliers in any dataset\n",
    "#### 1. Visualization plot\n",
    "   Plot the data in scatter plot, histogram or box plot and outliers will be clearly visible as they are away from the center of the data\n",
    "#### 2. Inter Quartile Range method (IQR)\n",
    "    Uses IQR and Quantiles to define upper and lower bounds for data"
   ]
  },
  {
   "cell_type": "markdown",
   "metadata": {},
   "source": [
    "### How to use Inter-Quartile method?\n",
    "#### Steps\n",
    "* Sort the data in the list in ascending order\n",
    "* Calculate the first quartile (Q1) and the third quartile (Q3) and the IQR (Q3-Q1)\n",
    "* Calculate the lower bound (Q1 - (IQR * 1.5))\n",
    "* Calculate the upper bound (Q3 - (IQR * 1.5))\n",
    "* Any value that lies below the lower bound or above the upper bound is a potential outlier\n",
    "\n",
    "Pandas has built in methods to find quartiles. IQR, upper and lower bounds has to be calculated"
   ]
  },
  {
   "cell_type": "code",
   "execution_count": 1,
   "metadata": {},
   "outputs": [],
   "source": [
    "import numpy as np\n",
    "import pandas as pd"
   ]
  },
  {
   "cell_type": "code",
   "execution_count": 2,
   "metadata": {},
   "outputs": [],
   "source": [
    "df=pd.DataFrame(np.random.randn(900,3))"
   ]
  },
  {
   "cell_type": "code",
   "execution_count": 3,
   "metadata": {},
   "outputs": [
    {
     "data": {
      "text/html": [
       "<div>\n",
       "<style scoped>\n",
       "    .dataframe tbody tr th:only-of-type {\n",
       "        vertical-align: middle;\n",
       "    }\n",
       "\n",
       "    .dataframe tbody tr th {\n",
       "        vertical-align: top;\n",
       "    }\n",
       "\n",
       "    .dataframe thead th {\n",
       "        text-align: right;\n",
       "    }\n",
       "</style>\n",
       "<table border=\"1\" class=\"dataframe\">\n",
       "  <thead>\n",
       "    <tr style=\"text-align: right;\">\n",
       "      <th></th>\n",
       "      <th>0</th>\n",
       "      <th>1</th>\n",
       "      <th>2</th>\n",
       "    </tr>\n",
       "  </thead>\n",
       "  <tbody>\n",
       "    <tr>\n",
       "      <th>0</th>\n",
       "      <td>-0.131694</td>\n",
       "      <td>1.350226</td>\n",
       "      <td>0.416394</td>\n",
       "    </tr>\n",
       "    <tr>\n",
       "      <th>1</th>\n",
       "      <td>-1.098554</td>\n",
       "      <td>-0.069028</td>\n",
       "      <td>1.257827</td>\n",
       "    </tr>\n",
       "    <tr>\n",
       "      <th>2</th>\n",
       "      <td>0.876352</td>\n",
       "      <td>-0.141910</td>\n",
       "      <td>-0.261031</td>\n",
       "    </tr>\n",
       "    <tr>\n",
       "      <th>3</th>\n",
       "      <td>-1.292246</td>\n",
       "      <td>-1.116471</td>\n",
       "      <td>-1.236922</td>\n",
       "    </tr>\n",
       "    <tr>\n",
       "      <th>4</th>\n",
       "      <td>-0.957594</td>\n",
       "      <td>0.740286</td>\n",
       "      <td>3.131848</td>\n",
       "    </tr>\n",
       "  </tbody>\n",
       "</table>\n",
       "</div>"
      ],
      "text/plain": [
       "          0         1         2\n",
       "0 -0.131694  1.350226  0.416394\n",
       "1 -1.098554 -0.069028  1.257827\n",
       "2  0.876352 -0.141910 -0.261031\n",
       "3 -1.292246 -1.116471 -1.236922\n",
       "4 -0.957594  0.740286  3.131848"
      ]
     },
     "execution_count": 3,
     "metadata": {},
     "output_type": "execute_result"
    }
   ],
   "source": [
    "df.head()"
   ]
  },
  {
   "cell_type": "code",
   "execution_count": 6,
   "metadata": {},
   "outputs": [],
   "source": [
    "quantiles_df = (df.quantile([0.25,0.75]))"
   ]
  },
  {
   "cell_type": "code",
   "execution_count": 7,
   "metadata": {},
   "outputs": [
    {
     "name": "stdout",
     "output_type": "stream",
     "text": [
      "The 1st and 3rd Quartile of all columns\n",
      "\n",
      "             0         1         2\n",
      "0.25 -0.668095 -0.668929 -0.636122\n",
      "0.75  0.684575  0.638832  0.687872\n"
     ]
    }
   ],
   "source": [
    "print(\"The 1st and 3rd Quartile of all columns\\n\")\n",
    "print(quantiles_df)"
   ]
  },
  {
   "cell_type": "code",
   "execution_count": 8,
   "metadata": {},
   "outputs": [],
   "source": [
    "Q1 = quantiles_df[0][0.25]\n",
    "Q3 = quantiles_df[0][0.75]"
   ]
  },
  {
   "cell_type": "code",
   "execution_count": 9,
   "metadata": {},
   "outputs": [],
   "source": [
    "IQR = Q3 - Q1"
   ]
  },
  {
   "cell_type": "code",
   "execution_count": 10,
   "metadata": {},
   "outputs": [],
   "source": [
    "lowerbound = (Q1 - (IQR * 1.5))\n",
    "upperbound = (Q3 + (IQR * 1.5))"
   ]
  },
  {
   "cell_type": "code",
   "execution_count": 11,
   "metadata": {},
   "outputs": [
    {
     "name": "stdout",
     "output_type": "stream",
     "text": [
      "The lower bound for first column\n",
      "\n",
      "-2.697100451184453\n",
      "\n",
      " The upper bound for first column\n",
      "\n",
      "2.7135803524632545\n"
     ]
    }
   ],
   "source": [
    "print(\"The lower bound for first column\\n\")\n",
    "print(lowerbound)\n",
    "print(\"\\n The upper bound for first column\\n\")\n",
    "print(upperbound)"
   ]
  },
  {
   "cell_type": "code",
   "execution_count": 13,
   "metadata": {},
   "outputs": [],
   "source": [
    "col1=df[0]"
   ]
  },
  {
   "cell_type": "code",
   "execution_count": 14,
   "metadata": {},
   "outputs": [
    {
     "name": "stdout",
     "output_type": "stream",
     "text": [
      "The outliers in the first column below the lower bound are\n",
      "\n",
      "273   -2.903475\n",
      "720   -2.846870\n",
      "786   -2.890979\n",
      "869   -2.707135\n",
      "Name: 0, dtype: float64\n"
     ]
    }
   ],
   "source": [
    "print(\"The outliers in the first column below the lower bound are\\n\")\n",
    "print(col1[col1 < lowerbound])"
   ]
  },
  {
   "cell_type": "code",
   "execution_count": 15,
   "metadata": {},
   "outputs": [
    {
     "name": "stdout",
     "output_type": "stream",
     "text": [
      "The outliers in the first column above the upper bound are\n",
      "\n",
      "324    3.287915\n",
      "436    3.376404\n",
      "572    3.052397\n",
      "787    2.817193\n",
      "Name: 0, dtype: float64\n"
     ]
    }
   ],
   "source": [
    "print(\"The outliers in the first column above the upper bound are\\n\")\n",
    "print(col1[col1 > upperbound])"
   ]
  },
  {
   "cell_type": "markdown",
   "metadata": {},
   "source": [
    "#### As we have identified the outliers, lets see how to handle the outliers\n",
    "#### Assigning lowerbound value to the outliers below the lowerbound and upperbound value to the outliers above the upperbound"
   ]
  },
  {
   "cell_type": "code",
   "execution_count": 16,
   "metadata": {},
   "outputs": [],
   "source": [
    "col1[col1 < lowerbound] = lowerbound\n",
    "col1[col1 > upperbound] = upperbound"
   ]
  },
  {
   "cell_type": "code",
   "execution_count": 17,
   "metadata": {},
   "outputs": [
    {
     "name": "stdout",
     "output_type": "stream",
     "text": [
      "After handling the outliers\n",
      "\n",
      "The outliers in the first column below the lower bound are\n",
      " Series([], Name: 0, dtype: float64)\n",
      "The outliers in the first column above the upper bound are\n",
      " Series([], Name: 0, dtype: float64)\n"
     ]
    }
   ],
   "source": [
    "print(\"After handling the outliers\\n\")\n",
    "print(\"The outliers in the first column below the lower bound are\\n\", col1[col1 < lowerbound])\n",
    "print(\"The outliers in the first column above the upper bound are\\n\", col1[col1 > upperbound])"
   ]
  },
  {
   "cell_type": "code",
   "execution_count": 18,
   "metadata": {},
   "outputs": [
    {
     "name": "stdout",
     "output_type": "stream",
     "text": [
      "0     -0.131694\n",
      "1     -1.098554\n",
      "2      0.876352\n",
      "3     -1.292246\n",
      "4     -0.957594\n",
      "         ...   \n",
      "895    0.423038\n",
      "896    0.049663\n",
      "897    0.141169\n",
      "898    1.643089\n",
      "899   -1.685683\n",
      "Name: 0, Length: 900, dtype: float64\n"
     ]
    }
   ],
   "source": [
    "print(col1)"
   ]
  },
  {
   "cell_type": "code",
   "execution_count": 19,
   "metadata": {},
   "outputs": [],
   "source": [
    "df[0]=col1"
   ]
  },
  {
   "cell_type": "code",
   "execution_count": 20,
   "metadata": {},
   "outputs": [
    {
     "name": "stdout",
     "output_type": "stream",
     "text": [
      "            0         1         2\n",
      "0   -0.131694  1.350226  0.416394\n",
      "1   -1.098554 -0.069028  1.257827\n",
      "2    0.876352 -0.141910 -0.261031\n",
      "3   -1.292246 -1.116471 -1.236922\n",
      "4   -0.957594  0.740286  3.131848\n",
      "..        ...       ...       ...\n",
      "895  0.423038 -0.365692  0.888563\n",
      "896  0.049663 -1.622724  1.617429\n",
      "897  0.141169 -0.280255  0.126374\n",
      "898  1.643089 -0.376239  0.635775\n",
      "899 -1.685683  0.228994 -1.098492\n",
      "\n",
      "[900 rows x 3 columns]\n"
     ]
    }
   ],
   "source": [
    "print(df)"
   ]
  },
  {
   "cell_type": "code",
   "execution_count": null,
   "metadata": {},
   "outputs": [],
   "source": []
  }
 ],
 "metadata": {
  "kernelspec": {
   "display_name": "Python 3",
   "language": "python",
   "name": "python3"
  },
  "language_info": {
   "codemirror_mode": {
    "name": "ipython",
    "version": 3
   },
   "file_extension": ".py",
   "mimetype": "text/x-python",
   "name": "python",
   "nbconvert_exporter": "python",
   "pygments_lexer": "ipython3",
   "version": "3.8.5"
  }
 },
 "nbformat": 4,
 "nbformat_minor": 4
}
