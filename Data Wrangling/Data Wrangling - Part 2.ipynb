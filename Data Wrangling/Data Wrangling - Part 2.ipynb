{
 "cells": [
  {
   "cell_type": "markdown",
   "metadata": {},
   "source": [
    "### Reshaping data\n",
    "Transform the initial data model to the desired shape to ease the cleaning and manipulation of data for analysis\n",
    "* usually performed on series or dataframe with multiple indexes\n",
    "\n"
   ]
  },
  {
   "cell_type": "code",
   "execution_count": 1,
   "metadata": {},
   "outputs": [],
   "source": [
    "import pandas as pd\n",
    "import numpy as np"
   ]
  },
  {
   "cell_type": "markdown",
   "metadata": {},
   "source": [
    "#### Stacking\n",
    "Stacking means taking the innermost level of column index from a multi-indexed dataframe and adding it as another level to the innermost row index.\n",
    "If the dataframe is not multi-indexed, it takes the first column and moves it to the innermost row level."
   ]
  },
  {
   "cell_type": "code",
   "execution_count": 2,
   "metadata": {},
   "outputs": [],
   "source": [
    "df=pd.DataFrame(np.arange(12).reshape(3,4), index=['Row1','Row2','Row3'], columns=['Col1','Col2','Col3','Col4'])\n",
    "df.index.name = 'Row'\n",
    "df.columns.name = 'Column'"
   ]
  },
  {
   "cell_type": "code",
   "execution_count": 3,
   "metadata": {},
   "outputs": [
    {
     "name": "stdout",
     "output_type": "stream",
     "text": [
      "The original dataframe\n",
      " Column  Col1  Col2  Col3  Col4\n",
      "Row                           \n",
      "Row1       0     1     2     3\n",
      "Row2       4     5     6     7\n",
      "Row3       8     9    10    11\n"
     ]
    }
   ],
   "source": [
    "print(\"The original dataframe\\n\",df)"
   ]
  },
  {
   "cell_type": "code",
   "execution_count": 5,
   "metadata": {},
   "outputs": [
    {
     "name": "stdout",
     "output_type": "stream",
     "text": [
      "The stacked dataframe\n",
      "\n",
      "Row   Column\n",
      "Row1  Col1       0\n",
      "      Col2       1\n",
      "      Col3       2\n",
      "      Col4       3\n",
      "Row2  Col1       4\n",
      "      Col2       5\n",
      "      Col3       6\n",
      "      Col4       7\n",
      "Row3  Col1       8\n",
      "      Col2       9\n",
      "      Col3      10\n",
      "      Col4      11\n",
      "dtype: int32\n"
     ]
    }
   ],
   "source": [
    "print('The stacked dataframe\\n')\n",
    "stacked_df=df.stack()\n",
    "print(stacked_df)\n"
   ]
  },
  {
   "cell_type": "markdown",
   "metadata": {},
   "source": [
    "#### The stack method has converted the single indexed dataframe to a multiindexed Series.\n",
    "Column index is moved to the innermost row index along with their values"
   ]
  },
  {
   "cell_type": "markdown",
   "metadata": {},
   "source": [
    "#### Unstacking\n",
    "* Unstacking a series or dataframe takes the innermost level of row index from a multi-indexed data frame and add it as another level to the innermost column index.\n",
    "* if its not multi-indexed, it takes the first row and moves it to the innermost column level.\n"
   ]
  },
  {
   "cell_type": "code",
   "execution_count": 6,
   "metadata": {},
   "outputs": [
    {
     "name": "stdout",
     "output_type": "stream",
     "text": [
      "The stacked dataframe\n",
      " Row   Column\n",
      "Row1  Col1       0\n",
      "      Col2       1\n",
      "      Col3       2\n",
      "      Col4       3\n",
      "Row2  Col1       4\n",
      "      Col2       5\n",
      "      Col3       6\n",
      "      Col4       7\n",
      "Row3  Col1       8\n",
      "      Col2       9\n",
      "      Col3      10\n",
      "      Col4      11\n",
      "dtype: int32\n"
     ]
    }
   ],
   "source": [
    "print(\"The stacked dataframe\\n\",stacked_df)"
   ]
  },
  {
   "cell_type": "code",
   "execution_count": 7,
   "metadata": {},
   "outputs": [
    {
     "name": "stdout",
     "output_type": "stream",
     "text": [
      "The unstacked dataframe\n",
      "\n",
      "Column  Col1  Col2  Col3  Col4\n",
      "Row                           \n",
      "Row1       0     1     2     3\n",
      "Row2       4     5     6     7\n",
      "Row3       8     9    10    11\n"
     ]
    }
   ],
   "source": [
    "print(\"The unstacked dataframe\\n\")\n",
    "print(stacked_df.unstack())"
   ]
  },
  {
   "cell_type": "code",
   "execution_count": 8,
   "metadata": {},
   "outputs": [
    {
     "name": "stdout",
     "output_type": "stream",
     "text": [
      "The unstacked dataframe on named index\n",
      "\n",
      "Row     Row1  Row2  Row3\n",
      "Column                  \n",
      "Col1       0     4     8\n",
      "Col2       1     5     9\n",
      "Col3       2     6    10\n",
      "Col4       3     7    11\n"
     ]
    }
   ],
   "source": [
    "print(\"The unstacked dataframe on named index\\n\")\n",
    "print(stacked_df.unstack('Row'))"
   ]
  },
  {
   "cell_type": "markdown",
   "metadata": {},
   "source": [
    "#### if unstacking is done on a series object, then it transforms to a dataframe"
   ]
  },
  {
   "cell_type": "markdown",
   "metadata": {},
   "source": [
    "### Pivot tables\n",
    "* creates a table that contains information from original table, based on parameters defined by the user.\n",
    "* it describes what information the user wants to know and how the user wants to present the information\n",
    "* pivot(row_index,column_index,value)"
   ]
  },
  {
   "cell_type": "code",
   "execution_count": 10,
   "metadata": {},
   "outputs": [
    {
     "name": "stdout",
     "output_type": "stream",
     "text": [
      "Original dataframe\n",
      "\n",
      "Column    Company   product price\n",
      "Row                              \n",
      "0          Google    Editor  $200\n",
      "1       Microsoft    Editor  $250\n",
      "2          Google  Calendar   $50\n",
      "3       Microsoft     Azure  $400\n"
     ]
    }
   ],
   "source": [
    "df1=pd.DataFrame({'Company':['Google','Microsoft','Google','Microsoft'],\n",
    "                 'product':['Editor','Editor','Calendar','Azure'],\n",
    "                 'price':['$200','$250','$50','$400']})\n",
    "df1.index.name='Row'\n",
    "df1.columns.name='Column'\n",
    "print(\"Original dataframe\\n\")\n",
    "print(df1)"
   ]
  },
  {
   "cell_type": "code",
   "execution_count": 12,
   "metadata": {},
   "outputs": [
    {
     "name": "stdout",
     "output_type": "stream",
     "text": [
      "Pivoted data frame\n",
      "\n",
      "product   Azure Calendar Editor\n",
      "Company                        \n",
      "Google      NaN      $50   $200\n",
      "Microsoft  $400      NaN   $250\n"
     ]
    }
   ],
   "source": [
    "print(\"Pivoted data frame\\n\")\n",
    "print(df1.pivot('Company','product','price')) #pivot(row_index,column_index,value)"
   ]
  },
  {
   "cell_type": "code",
   "execution_count": null,
   "metadata": {},
   "outputs": [],
   "source": []
  }
 ],
 "metadata": {
  "kernelspec": {
   "display_name": "Python 3",
   "language": "python",
   "name": "python3"
  },
  "language_info": {
   "codemirror_mode": {
    "name": "ipython",
    "version": 3
   },
   "file_extension": ".py",
   "mimetype": "text/x-python",
   "name": "python",
   "nbconvert_exporter": "python",
   "pygments_lexer": "ipython3",
   "version": "3.8.5"
  }
 },
 "nbformat": 4,
 "nbformat_minor": 4
}
