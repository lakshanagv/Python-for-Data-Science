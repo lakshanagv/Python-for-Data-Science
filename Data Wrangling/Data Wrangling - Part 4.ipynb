{
 "cells": [
  {
   "cell_type": "markdown",
   "metadata": {},
   "source": [
    "### Replace values\n",
    "* replace() --> used to replace values in a series and a dataframe"
   ]
  },
  {
   "cell_type": "markdown",
   "metadata": {},
   "source": [
    "#### To replace single value\n",
    "replace(current_value,new_value)\n",
    "\n",
    "#### To replace multiple values\n",
    "replace([val1,val2],[new_val1,new_val2])"
   ]
  },
  {
   "cell_type": "code",
   "execution_count": 1,
   "metadata": {},
   "outputs": [],
   "source": [
    "import numpy as np\n",
    "import pandas as pd"
   ]
  },
  {
   "cell_type": "markdown",
   "metadata": {},
   "source": [
    "#### Replace in series"
   ]
  },
  {
   "cell_type": "code",
   "execution_count": 4,
   "metadata": {},
   "outputs": [
    {
     "name": "stdout",
     "output_type": "stream",
     "text": [
      "Original series\n",
      " 0    A\n",
      "1    B\n",
      "2    C\n",
      "3    D\n",
      "4    A\n",
      "5    A\n",
      "6    C\n",
      "7    E\n",
      "dtype: object\n"
     ]
    }
   ],
   "source": [
    "srs = pd.Series(['A','B','C','D','A','A','C','E'])\n",
    "print(\"Original series\\n\",srs)"
   ]
  },
  {
   "cell_type": "code",
   "execution_count": 5,
   "metadata": {},
   "outputs": [
    {
     "name": "stdout",
     "output_type": "stream",
     "text": [
      "Replace single values\n",
      "\n",
      "0      A\n",
      "1      B\n",
      "2    NaN\n",
      "3      D\n",
      "4      A\n",
      "5      A\n",
      "6    NaN\n",
      "7      E\n",
      "dtype: object\n"
     ]
    }
   ],
   "source": [
    "print(\"Replace single values\\n\")\n",
    "print(srs.replace('C',np.nan))"
   ]
  },
  {
   "cell_type": "code",
   "execution_count": 6,
   "metadata": {},
   "outputs": [
    {
     "name": "stdout",
     "output_type": "stream",
     "text": [
      "Replace multiple values\n",
      "\n",
      "0    A\n",
      "1    1\n",
      "2    C\n",
      "3    D\n",
      "4    A\n",
      "5    A\n",
      "6    C\n",
      "7    3\n",
      "dtype: object\n"
     ]
    }
   ],
   "source": [
    "print(\"Replace multiple values\\n\")\n",
    "print(srs.replace(['B','E'],[1,3]))"
   ]
  },
  {
   "cell_type": "markdown",
   "metadata": {},
   "source": [
    "#### Replace in dataframe"
   ]
  },
  {
   "cell_type": "code",
   "execution_count": 14,
   "metadata": {},
   "outputs": [],
   "source": [
    "df2=pd.read_csv('real_estate.csv')"
   ]
  },
  {
   "cell_type": "code",
   "execution_count": 15,
   "metadata": {},
   "outputs": [
    {
     "data": {
      "text/html": [
       "<div>\n",
       "<style scoped>\n",
       "    .dataframe tbody tr th:only-of-type {\n",
       "        vertical-align: middle;\n",
       "    }\n",
       "\n",
       "    .dataframe tbody tr th {\n",
       "        vertical-align: top;\n",
       "    }\n",
       "\n",
       "    .dataframe thead th {\n",
       "        text-align: right;\n",
       "    }\n",
       "</style>\n",
       "<table border=\"1\" class=\"dataframe\">\n",
       "  <thead>\n",
       "    <tr style=\"text-align: right;\">\n",
       "      <th></th>\n",
       "      <th>city</th>\n",
       "      <th>zip</th>\n",
       "      <th>state</th>\n",
       "      <th>beds</th>\n",
       "      <th>baths</th>\n",
       "      <th>sq__ft</th>\n",
       "      <th>type</th>\n",
       "      <th>price</th>\n",
       "    </tr>\n",
       "  </thead>\n",
       "  <tbody>\n",
       "    <tr>\n",
       "      <th>0</th>\n",
       "      <td>SACRAMENTO</td>\n",
       "      <td>95838</td>\n",
       "      <td>CA</td>\n",
       "      <td>2</td>\n",
       "      <td>1</td>\n",
       "      <td>836</td>\n",
       "      <td>Residential</td>\n",
       "      <td>59222</td>\n",
       "    </tr>\n",
       "    <tr>\n",
       "      <th>1</th>\n",
       "      <td>SACRAMENTO</td>\n",
       "      <td>95823</td>\n",
       "      <td>CA</td>\n",
       "      <td>3</td>\n",
       "      <td>1</td>\n",
       "      <td>1167</td>\n",
       "      <td>Residential</td>\n",
       "      <td>68212</td>\n",
       "    </tr>\n",
       "    <tr>\n",
       "      <th>2</th>\n",
       "      <td>SACRAMENTO</td>\n",
       "      <td>95815</td>\n",
       "      <td>CA</td>\n",
       "      <td>2</td>\n",
       "      <td>1</td>\n",
       "      <td>796</td>\n",
       "      <td>Residential</td>\n",
       "      <td>68880</td>\n",
       "    </tr>\n",
       "    <tr>\n",
       "      <th>3</th>\n",
       "      <td>SACRAMENTO</td>\n",
       "      <td>95815</td>\n",
       "      <td>CA</td>\n",
       "      <td>2</td>\n",
       "      <td>1</td>\n",
       "      <td>852</td>\n",
       "      <td>Residential</td>\n",
       "      <td>69307</td>\n",
       "    </tr>\n",
       "    <tr>\n",
       "      <th>4</th>\n",
       "      <td>SACRAMENTO</td>\n",
       "      <td>95824</td>\n",
       "      <td>CA</td>\n",
       "      <td>2</td>\n",
       "      <td>1</td>\n",
       "      <td>797</td>\n",
       "      <td>Residential</td>\n",
       "      <td>81900</td>\n",
       "    </tr>\n",
       "  </tbody>\n",
       "</table>\n",
       "</div>"
      ],
      "text/plain": [
       "         city    zip state  beds  baths  sq__ft         type  price\n",
       "0  SACRAMENTO  95838    CA     2      1     836  Residential  59222\n",
       "1  SACRAMENTO  95823    CA     3      1    1167  Residential  68212\n",
       "2  SACRAMENTO  95815    CA     2      1     796  Residential  68880\n",
       "3  SACRAMENTO  95815    CA     2      1     852  Residential  69307\n",
       "4  SACRAMENTO  95824    CA     2      1     797  Residential  81900"
      ]
     },
     "execution_count": 15,
     "metadata": {},
     "output_type": "execute_result"
    }
   ],
   "source": [
    "df2.head()"
   ]
  },
  {
   "cell_type": "code",
   "execution_count": 16,
   "metadata": {},
   "outputs": [
    {
     "name": "stdout",
     "output_type": "stream",
     "text": [
      "single value is changed in dataframe\n",
      "\n",
      "                   city    zip state  beds  baths  sq__ft         type   price\n",
      "0    Changed SACRAMENTO  95838    CA     2      1     836  Residential   59222\n",
      "1    Changed SACRAMENTO  95823    CA     3      1    1167  Residential   68212\n",
      "2    Changed SACRAMENTO  95815    CA     2      1     796  Residential   68880\n",
      "3    Changed SACRAMENTO  95815    CA     2      1     852  Residential   69307\n",
      "4    Changed SACRAMENTO  95824    CA     2      1     797  Residential   81900\n",
      "..                  ...    ...   ...   ...    ...     ...          ...     ...\n",
      "358  Changed SACRAMENTO  95821    CA     3      1    1014  Residential  113000\n",
      "359  Changed SACRAMENTO  95820    CA     4      2    1448  Residential  114000\n",
      "360  Changed SACRAMENTO  95838    CA     3      1     966  Residential  114000\n",
      "361  Changed SACRAMENTO  95823    CA     2      1     779  Residential  114750\n",
      "362            ANTELOPE  95843    CA     2      2     836        Condo  115000\n",
      "\n",
      "[363 rows x 8 columns]\n"
     ]
    }
   ],
   "source": [
    "print(\"single value is changed in dataframe\\n\")\n",
    "df2=df2.replace('SACRAMENTO','Changed SACRAMENTO')\n",
    "print(df2)"
   ]
  },
  {
   "cell_type": "code",
   "execution_count": 17,
   "metadata": {},
   "outputs": [
    {
     "data": {
      "text/html": [
       "<div>\n",
       "<style scoped>\n",
       "    .dataframe tbody tr th:only-of-type {\n",
       "        vertical-align: middle;\n",
       "    }\n",
       "\n",
       "    .dataframe tbody tr th {\n",
       "        vertical-align: top;\n",
       "    }\n",
       "\n",
       "    .dataframe thead th {\n",
       "        text-align: right;\n",
       "    }\n",
       "</style>\n",
       "<table border=\"1\" class=\"dataframe\">\n",
       "  <thead>\n",
       "    <tr style=\"text-align: right;\">\n",
       "      <th></th>\n",
       "      <th>city</th>\n",
       "      <th>zip</th>\n",
       "      <th>state</th>\n",
       "      <th>beds</th>\n",
       "      <th>baths</th>\n",
       "      <th>sq__ft</th>\n",
       "      <th>type</th>\n",
       "      <th>price</th>\n",
       "    </tr>\n",
       "  </thead>\n",
       "  <tbody>\n",
       "    <tr>\n",
       "      <th>0</th>\n",
       "      <td>Changed SACRAMENTO</td>\n",
       "      <td>95838</td>\n",
       "      <td>CA</td>\n",
       "      <td>2</td>\n",
       "      <td>1</td>\n",
       "      <td>836</td>\n",
       "      <td>Residential</td>\n",
       "      <td>59222</td>\n",
       "    </tr>\n",
       "    <tr>\n",
       "      <th>1</th>\n",
       "      <td>Changed SACRAMENTO</td>\n",
       "      <td>95823</td>\n",
       "      <td>CA</td>\n",
       "      <td>3</td>\n",
       "      <td>1</td>\n",
       "      <td>1167</td>\n",
       "      <td>Residential</td>\n",
       "      <td>68212</td>\n",
       "    </tr>\n",
       "    <tr>\n",
       "      <th>2</th>\n",
       "      <td>Changed SACRAMENTO</td>\n",
       "      <td>95815</td>\n",
       "      <td>CA</td>\n",
       "      <td>2</td>\n",
       "      <td>1</td>\n",
       "      <td>796</td>\n",
       "      <td>Residential</td>\n",
       "      <td>68880</td>\n",
       "    </tr>\n",
       "    <tr>\n",
       "      <th>3</th>\n",
       "      <td>Changed SACRAMENTO</td>\n",
       "      <td>95815</td>\n",
       "      <td>CA</td>\n",
       "      <td>2</td>\n",
       "      <td>1</td>\n",
       "      <td>852</td>\n",
       "      <td>Residential</td>\n",
       "      <td>69307</td>\n",
       "    </tr>\n",
       "    <tr>\n",
       "      <th>4</th>\n",
       "      <td>Changed SACRAMENTO</td>\n",
       "      <td>95824</td>\n",
       "      <td>CA</td>\n",
       "      <td>2</td>\n",
       "      <td>1</td>\n",
       "      <td>797</td>\n",
       "      <td>Residential</td>\n",
       "      <td>81900</td>\n",
       "    </tr>\n",
       "    <tr>\n",
       "      <th>5</th>\n",
       "      <td>Changed SACRAMENTO</td>\n",
       "      <td>95841</td>\n",
       "      <td>CA</td>\n",
       "      <td>3</td>\n",
       "      <td>1</td>\n",
       "      <td>1122</td>\n",
       "      <td>Condo</td>\n",
       "      <td>89921</td>\n",
       "    </tr>\n",
       "    <tr>\n",
       "      <th>6</th>\n",
       "      <td>Changed SACRAMENTO</td>\n",
       "      <td>95842</td>\n",
       "      <td>CA</td>\n",
       "      <td>3</td>\n",
       "      <td>2</td>\n",
       "      <td>1104</td>\n",
       "      <td>Residential</td>\n",
       "      <td>90895</td>\n",
       "    </tr>\n",
       "    <tr>\n",
       "      <th>7</th>\n",
       "      <td>Changed SACRAMENTO</td>\n",
       "      <td>95820</td>\n",
       "      <td>CA</td>\n",
       "      <td>3</td>\n",
       "      <td>1</td>\n",
       "      <td>1177</td>\n",
       "      <td>Residential</td>\n",
       "      <td>91002</td>\n",
       "    </tr>\n",
       "    <tr>\n",
       "      <th>8</th>\n",
       "      <td>RANCHO CORDOVA</td>\n",
       "      <td>95670</td>\n",
       "      <td>CA</td>\n",
       "      <td>2</td>\n",
       "      <td>2</td>\n",
       "      <td>941</td>\n",
       "      <td>Condo</td>\n",
       "      <td>94905</td>\n",
       "    </tr>\n",
       "    <tr>\n",
       "      <th>9</th>\n",
       "      <td>RIO LINDA</td>\n",
       "      <td>95673</td>\n",
       "      <td>CA</td>\n",
       "      <td>3</td>\n",
       "      <td>2</td>\n",
       "      <td>1146</td>\n",
       "      <td>Residential</td>\n",
       "      <td>98937</td>\n",
       "    </tr>\n",
       "    <tr>\n",
       "      <th>10</th>\n",
       "      <td>Changed SACRAMENTO</td>\n",
       "      <td>95838</td>\n",
       "      <td>CA</td>\n",
       "      <td>3</td>\n",
       "      <td>2</td>\n",
       "      <td>909</td>\n",
       "      <td>Residential</td>\n",
       "      <td>100309</td>\n",
       "    </tr>\n",
       "    <tr>\n",
       "      <th>11</th>\n",
       "      <td>Changed SACRAMENTO</td>\n",
       "      <td>95823</td>\n",
       "      <td>CA</td>\n",
       "      <td>3</td>\n",
       "      <td>2</td>\n",
       "      <td>1289</td>\n",
       "      <td>Residential</td>\n",
       "      <td>106250</td>\n",
       "    </tr>\n",
       "    <tr>\n",
       "      <th>12</th>\n",
       "      <td>Changed SACRAMENTO</td>\n",
       "      <td>95815</td>\n",
       "      <td>CA</td>\n",
       "      <td>1</td>\n",
       "      <td>1</td>\n",
       "      <td>871</td>\n",
       "      <td>Residential</td>\n",
       "      <td>106852</td>\n",
       "    </tr>\n",
       "    <tr>\n",
       "      <th>13</th>\n",
       "      <td>Changed SACRAMENTO</td>\n",
       "      <td>95822</td>\n",
       "      <td>CA</td>\n",
       "      <td>3</td>\n",
       "      <td>1</td>\n",
       "      <td>1020</td>\n",
       "      <td>Residential</td>\n",
       "      <td>107502</td>\n",
       "    </tr>\n",
       "    <tr>\n",
       "      <th>14</th>\n",
       "      <td>Changed SACRAMENTO</td>\n",
       "      <td>95842</td>\n",
       "      <td>CA</td>\n",
       "      <td>2</td>\n",
       "      <td>2</td>\n",
       "      <td>1022</td>\n",
       "      <td>Residential</td>\n",
       "      <td>108750</td>\n",
       "    </tr>\n",
       "  </tbody>\n",
       "</table>\n",
       "</div>"
      ],
      "text/plain": [
       "                  city    zip state  beds  baths  sq__ft         type   price\n",
       "0   Changed SACRAMENTO  95838    CA     2      1     836  Residential   59222\n",
       "1   Changed SACRAMENTO  95823    CA     3      1    1167  Residential   68212\n",
       "2   Changed SACRAMENTO  95815    CA     2      1     796  Residential   68880\n",
       "3   Changed SACRAMENTO  95815    CA     2      1     852  Residential   69307\n",
       "4   Changed SACRAMENTO  95824    CA     2      1     797  Residential   81900\n",
       "5   Changed SACRAMENTO  95841    CA     3      1    1122        Condo   89921\n",
       "6   Changed SACRAMENTO  95842    CA     3      2    1104  Residential   90895\n",
       "7   Changed SACRAMENTO  95820    CA     3      1    1177  Residential   91002\n",
       "8       RANCHO CORDOVA  95670    CA     2      2     941        Condo   94905\n",
       "9            RIO LINDA  95673    CA     3      2    1146  Residential   98937\n",
       "10  Changed SACRAMENTO  95838    CA     3      2     909  Residential  100309\n",
       "11  Changed SACRAMENTO  95823    CA     3      2    1289  Residential  106250\n",
       "12  Changed SACRAMENTO  95815    CA     1      1     871  Residential  106852\n",
       "13  Changed SACRAMENTO  95822    CA     3      1    1020  Residential  107502\n",
       "14  Changed SACRAMENTO  95842    CA     2      2    1022  Residential  108750"
      ]
     },
     "execution_count": 17,
     "metadata": {},
     "output_type": "execute_result"
    }
   ],
   "source": [
    "df2.head(15)"
   ]
  },
  {
   "cell_type": "code",
   "execution_count": 18,
   "metadata": {},
   "outputs": [
    {
     "name": "stdout",
     "output_type": "stream",
     "text": [
      "Multiple values changed in dataframe\n",
      "\n",
      "              city    zip state  beds  baths  sq__ft         type   price\n",
      "0   New Sacramento  95838    AC     2      1     836  Residential   59222\n",
      "1   New Sacramento  95823    AC     3      1    1167  Residential   68212\n",
      "2   New Sacramento  95815    AC     2      1     796  Residential   68880\n",
      "3   New Sacramento  95815    AC     2      1     852  Residential   69307\n",
      "4   New Sacramento  95824    AC     2      1     797  Residential   81900\n",
      "5   New Sacramento  95841    AC     3      1    1122        Condo   89921\n",
      "6   New Sacramento  95842    AC     3      2    1104  Residential   90895\n",
      "7   New Sacramento  95820    AC     3      1    1177  Residential   91002\n",
      "8   RANCHO CORDOVA  95670    AC     2      2     941        Condo   94905\n",
      "9        RIO LINDA  95673    AC     3      2    1146  Residential   98937\n",
      "10  New Sacramento  95838    AC     3      2     909  Residential  100309\n",
      "11  New Sacramento  95823    AC     3      2    1289  Residential  106250\n",
      "12  New Sacramento  95815    AC     1      1     871  Residential  106852\n",
      "13  New Sacramento  95822    AC     3      1    1020  Residential  107502\n",
      "14  New Sacramento  95842    AC     2      2    1022  Residential  108750\n"
     ]
    }
   ],
   "source": [
    "df2=df2.replace(['Changed SACRAMENTO','CA'],['New Sacramento','AC'])\n",
    "print(\"Multiple values changed in dataframe\\n\")\n",
    "print(df2.head(15))"
   ]
  },
  {
   "cell_type": "markdown",
   "metadata": {},
   "source": [
    "### Renaming indexes"
   ]
  },
  {
   "cell_type": "code",
   "execution_count": 19,
   "metadata": {},
   "outputs": [],
   "source": [
    "df3=pd.DataFrame(abs(np.random.randn(9)).reshape(3,3),\n",
    "                index=['row1','row2','row3'],\n",
    "                columns=['col1','col2','col3'])"
   ]
  },
  {
   "cell_type": "code",
   "execution_count": 20,
   "metadata": {},
   "outputs": [
    {
     "name": "stdout",
     "output_type": "stream",
     "text": [
      "Original dataframe\n",
      "           col1      col2      col3\n",
      "row1  1.287475  1.385408  0.063470\n",
      "row2  0.613627  1.309408  0.716680\n",
      "row3  0.657859  0.280341  0.350598\n"
     ]
    }
   ],
   "source": [
    "print(\"Original dataframe\\n\",df3)"
   ]
  },
  {
   "cell_type": "code",
   "execution_count": 22,
   "metadata": {},
   "outputs": [
    {
     "name": "stdout",
     "output_type": "stream",
     "text": [
      "Changing row and column indexes\n",
      "\n",
      "          Col1      Col2      Col3\n",
      "ROW1  1.287475  1.385408  0.063470\n",
      "ROW2  0.613627  1.309408  0.716680\n",
      "ROW3  0.657859  0.280341  0.350598\n"
     ]
    }
   ],
   "source": [
    "print(\"Changing row and column indexes\\n\")\n",
    "print(df3.rename(index=str.upper,columns=str.title))"
   ]
  },
  {
   "cell_type": "code",
   "execution_count": 23,
   "metadata": {},
   "outputs": [
    {
     "name": "stdout",
     "output_type": "stream",
     "text": [
      "Chaning specific row and column indexes\n",
      "\n",
      "          col1      col2  col_index3\n",
      "row1  1.287475  1.385408    0.063470\n",
      "row2  0.613627  1.309408    0.716680\n",
      "ROW3  0.657859  0.280341    0.350598\n"
     ]
    }
   ],
   "source": [
    "print(\"Chaning specific row and column indexes\\n\")\n",
    "print(df3.rename(index={'row3':'ROW3'},columns={'col3':'col_index3'}))"
   ]
  },
  {
   "cell_type": "code",
   "execution_count": null,
   "metadata": {},
   "outputs": [],
   "source": []
  }
 ],
 "metadata": {
  "kernelspec": {
   "display_name": "Python 3",
   "language": "python",
   "name": "python3"
  },
  "language_info": {
   "codemirror_mode": {
    "name": "ipython",
    "version": 3
   },
   "file_extension": ".py",
   "mimetype": "text/x-python",
   "name": "python",
   "nbconvert_exporter": "python",
   "pygments_lexer": "ipython3",
   "version": "3.8.5"
  }
 },
 "nbformat": 4,
 "nbformat_minor": 4
}
